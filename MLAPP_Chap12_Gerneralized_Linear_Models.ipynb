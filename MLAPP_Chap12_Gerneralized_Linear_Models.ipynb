{
 "cells": [
  {
   "cell_type": "code",
   "execution_count": 2,
   "id": "7cf4e89c",
   "metadata": {},
   "outputs": [
    {
     "name": "stdout",
     "output_type": "stream",
     "text": [
      "Hello World!\n",
      "------ Chapter 12 of MLAPP : Gerneralized Linear Models ------\n",
      "@author Zijie ZHONG / Zigit CHUNG\n",
      "@date 4 nov 2021\n"
     ]
    }
   ],
   "source": [
    "print(\"Hello World!\")\n",
    "print(\"------ Chapter 12 of MLAPP : Gerneralized Linear Models ------\")\n",
    "print(\"@author Zijie ZHONG / Zigit CHUNG\")\n",
    "print(\"@date 4 nov 2021\")"
   ]
  },
  {
   "cell_type": "code",
   "execution_count": null,
   "id": "80f8c421",
   "metadata": {},
   "outputs": [],
   "source": []
  }
 ],
 "metadata": {
  "kernelspec": {
   "display_name": "Python 3 (ipykernel)",
   "language": "python",
   "name": "python3"
  },
  "language_info": {
   "codemirror_mode": {
    "name": "ipython",
    "version": 3
   },
   "file_extension": ".py",
   "mimetype": "text/x-python",
   "name": "python",
   "nbconvert_exporter": "python",
   "pygments_lexer": "ipython3",
   "version": "3.9.7"
  }
 },
 "nbformat": 4,
 "nbformat_minor": 5
}
