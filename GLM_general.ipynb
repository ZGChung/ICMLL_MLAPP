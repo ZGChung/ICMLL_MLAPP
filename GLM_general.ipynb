{
 "cells": [
  {
   "cell_type": "markdown",
   "metadata": {},
   "source": [
    "------ Chapter 12 of MLAPP: Generalized Linear Models ------\n",
    "\n",
    "@author Zijie ZHONG / Zigit CHUNG\n",
    "\n",
    "@date 7 nov 2021"
   ]
  },
  {
   "cell_type": "markdown",
   "metadata": {},
   "source": [
    "In this demo I will try to re-obtain some distributions by modifying the parameters in the general formula for the General Linear Models family. \n",
    "\n",
    "List: Normal, Linear Regression, Binomial Regression, Poisson\n",
    "\n",
    "Similar to the demo of the ExpFam (ref:ExpFam_general.ipynb), in each block of code, I modify the form of the functions in the general formula for the GLM.\n",
    "\n",
    "Attention: the convention of the function follows the book MLAPP but not the Wikipedia.\n",
    "\n",
    "[Reference](https://en.wikipedia.org/wiki/Generalized_linear_model)"
   ]
  },
  {
   "cell_type": "markdown",
   "metadata": {},
   "source": [
    "Normal"
   ]
  },
  {
   "cell_type": "code",
   "execution_count": 69,
   "metadata": {},
   "outputs": [
    {
     "data": {
      "image/png": "[encoded data removed]",
      "text/plain": [
       "<Figure size 432x288 with 4 Axes>"
      ]
     },
     "metadata": {
      "needs_background": "light"
     },
     "output_type": "display_data"
    }
   ],
   "source": [
    "import numpy as np\n",
    "import matplotlib.pyplot as plt\n",
    "import math as m\n",
    "\n",
    "# Definition of the formula\n",
    "# define the x_set\n",
    "y_set_len = 14\n",
    "y_left = -7\n",
    "y_set = np.arange(y_left,y_left+y_set_len,1)\n",
    "# define the parameters\n",
    "n = 0\n",
    "mu = 2\n",
    "sigma = 1\n",
    "w = np.array([1]) # the weight vector of the parameters\n",
    "x = np.array([mu]) # in normal, there's only one parameter mu because sigma is a default parameter of GLMs\n",
    "# the x and mu will be redefined in the for loop\n",
    "# I wrote it here just to be more clear\n",
    "\n",
    "def hFunc(x,sigma):\n",
    "    return 1/(m.sqrt(2*m.pi*sigma**2))\n",
    "def etaFunc(w,x):\n",
    "    return np.dot(w,x)\n",
    "def AFunc(y,eta):\n",
    "    return (y**2+eta**2)/2\n",
    "\n",
    "# define the pdf and pdf2 array to store the result of calculation\n",
    "pdf = np.zeros(y_set_len)\n",
    "pdf2 = np.zeros(y_set_len)\n",
    "# plot the pdf generated 2 ways \n",
    "# note that there are 2 parameters in normal distribution, we add 2 figures\n",
    "# figure 1 and 2 correspond to fix mu, change sigma\n",
    "# figure 3 and 4 correspond to fix sigma, change mu\n",
    "fig, ax = plt.subplots(2, 2)\n",
    "for mu in np.arange(-6,6,3):\n",
    "    sigma = 1\n",
    "    x = np.array([mu])\n",
    "    for y in y_set:\n",
    "        h=hFunc(x,sigma)\n",
    "        eta = etaFunc(w,x)\n",
    "        A = AFunc(y,eta)\n",
    "        # FEF\n",
    "        temp1 = np.dot(y,eta)\n",
    "        pdf[y-y_left] = np.dot(h, (np.exp(((temp1-A)/(sigma**2)))))\n",
    "        ## original form\n",
    "        pdf2[y-y_left] = np.dot(h,  np.exp((-1/2)*(((y-x[0])/sigma)**2)))\n",
    "    ax[0,0].plot(y_set,pdf,'-o')\n",
    "    ax[0,1].plot(y_set,pdf2,'-o')\n",
    "for sigma in np.arange(0.1,1.2,0.3):\n",
    "    mu = 0\n",
    "    x = np.array([mu])\n",
    "    for y in y_set:\n",
    "        h=hFunc(x,sigma)\n",
    "        eta = etaFunc(w,x)\n",
    "        A = AFunc(y,eta)\n",
    "        # FEF\n",
    "        temp1 = np.dot(y,eta)\n",
    "        pdf[y-y_left] = np.dot(h, (np.exp(((temp1-A)/(sigma**2)))))\n",
    "        ## original form\n",
    "        pdf2[y-y_left] = np.dot(h,  np.exp((-1/2)*(((y-x[0])/sigma)**2)))\n",
    "    ax[1,0].plot(y_set,pdf,'-o')\n",
    "    ax[1,1].plot(y_set,pdf2,'-o')\n",
    "plt.show()"
   ]
  },
  {
   "cell_type": "markdown",
   "metadata": {},
   "source": [
    "Linear Regression"
   ]
  },
  {
   "cell_type": "code",
   "execution_count": 13,
   "metadata": {},
   "outputs": [
    {
     "name": "stdout",
     "output_type": "stream",
     "text": [
      "[10]\n"
     ]
    }
   ],
   "source": [
    "import numpy as np\n",
    "import matplotlib.pyplot as plt\n",
    "import math as m\n",
    "\n",
    "# Definition of the formula\n",
    "# define the x_set\n",
    "y_set_len = 14\n",
    "y_left = -7\n",
    "y_set = np.arange(y_left,y_left+y_set_len,1)\n",
    "# define the parameters\n",
    "n = 0\n",
    "mu = 2\n",
    "sigma = 1\n",
    "w = np.array([1]) # the weight vector of the parameters\n",
    "x = np.array([mu]) # in normal, there's only one parameter mu because sigma is a default parameter of GLMs\n",
    "# the x and mu will be redefined in the for loop\n",
    "# I wrote it here just to be more clear\n",
    "\n",
    "def hFunc(x,sigma):\n",
    "    return 1/(m.sqrt(2*m.pi*sigma**2))\n",
    "def etaFunc(w,x):\n",
    "    return np.dot(w,x)\n",
    "def AFunc(y,eta):\n",
    "    return (y**2+eta**2)/2\n",
    "\n",
    "# define the pdf and pdf2 array to store the result of calculation\n",
    "pdf = np.zeros(y_set_len)\n",
    "pdf2 = np.zeros(y_set_len)\n",
    "# plot the pdf generated 2 ways \n",
    "# note that there are 2 parameters in normal distribution, we add 2 figures\n",
    "# figure 1 and 2 correspond to fix mu, change sigma\n",
    "# figure 3 and 4 correspond to fix sigma, change mu\n",
    "fig, ax = plt.subplots(2, 2)\n",
    "for mu in np.arange(-6,6,3):\n",
    "    sigma = 1\n",
    "    x = np.array([mu])\n",
    "    for y in y_set:\n",
    "        h=hFunc(x,sigma)\n",
    "        eta = etaFunc(w,x)\n",
    "        A = AFunc(y,eta)\n",
    "        # FEF\n",
    "        temp1 = np.dot(y,eta)\n",
    "        pdf[y-y_left] = np.dot(h, (np.exp(((temp1-A)/(sigma**2)))))\n",
    "        ## original form\n",
    "        pdf2[y-y_left] = np.dot(h,  np.exp((-1/2)*(((y-x[0])/sigma)**2)))\n",
    "    ax[0,0].plot(y_set,pdf,'-o')\n",
    "    ax[0,1].plot(y_set,pdf2,'-o')\n",
    "for sigma in np.arange(0.1,1.2,0.3):\n",
    "    mu = 0\n",
    "    x = np.array([mu])\n",
    "    for y in y_set:\n",
    "        h=hFunc(x,sigma)\n",
    "        eta = etaFunc(w,x)\n",
    "        A = AFunc(y,eta)\n",
    "        # FEF\n",
    "        temp1 = np.dot(y,eta)\n",
    "        pdf[y-y_left] = np.dot(h, (np.exp(((temp1-A)/(sigma**2)))))\n",
    "        ## original form\n",
    "        pdf2[y-y_left] = np.dot(h,  np.exp((-1/2)*(((y-x[0])/sigma)**2)))\n",
    "    ax[1,0].plot(y_set,pdf,'-o')\n",
    "    ax[1,1].plot(y_set,pdf2,'-o')\n",
    "plt.show()"
   ]
  },
  {
   "cell_type": "markdown",
   "metadata": {},
   "source": [
    "Binomial"
   ]
  },
  {
   "cell_type": "code",
   "execution_count": null,
   "metadata": {},
   "outputs": [],
   "source": []
  },
  {
   "cell_type": "markdown",
   "metadata": {},
   "source": [
    "Poisson"
   ]
  },
  {
   "cell_type": "code",
   "execution_count": null,
   "metadata": {},
   "outputs": [],
   "source": []
  }
 ],
 "metadata": {
  "interpreter": {
   "hash": "aee8b7b246df8f9039afb4144a1f6fd8d2ca17a180786b69acc140d282b71a49"
  },
  "kernelspec": {
   "display_name": "Python 3.9.7 64-bit",
   "name": "python3"
  },
  "language_info": {
   "codemirror_mode": {
    "name": "ipython",
    "version": 3
   },
   "file_extension": ".py",
   "mimetype": "text/x-python",
   "name": "python",
   "nbconvert_exporter": "python",
   "pygments_lexer": "ipython3",
   "version": "3.9.7"
  },
  "orig_nbformat": 4
 },
 "nbformat": 4,
 "nbformat_minor": 2
}
