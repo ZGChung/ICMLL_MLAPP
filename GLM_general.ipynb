{
 "cells": [
  {
   "cell_type": "markdown",
   "metadata": {},
   "source": [
    "------ Chapter 12 of MLAPP: Generalized Linear Models ------\n",
    "\n",
    "@author Zijie ZHONG / Zigit CHUNG\n",
    "\n",
    "@date 5 nov 2021"
   ]
  },
  {
   "cell_type": "markdown",
   "metadata": {},
   "source": [
    "In this demo I will try to re-obtain some distributions by modifying the parameters in the general formula for the General Linear Models family. \n",
    "\n",
    "List: Normal, Exponential, Poisson, Bernoulli, Binomial\n",
    "\n",
    "[Reference](https://en.wikipedia.org/wiki/Generalized_linear_model)"
   ]
  },
  {
   "cell_type": "code",
   "execution_count": null,
   "metadata": {},
   "outputs": [],
   "source": [
    "import numpy as np\n",
    "# Definition of the formula\n",
    "h = \n",
    "b = \n",
    "T = \n",
    "A = \n",
    "d = \n",
    "pdf = h * np.exp((np.dot(np.transpose(b),T)-A)/(d))"
   ]
  }
 ],
 "metadata": {
  "language_info": {
   "name": "python"
  },
  "orig_nbformat": 4
 },
 "nbformat": 4,
 "nbformat_minor": 2
}
